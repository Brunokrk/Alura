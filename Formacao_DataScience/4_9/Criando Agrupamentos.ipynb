{
 "cells": [
  {
   "cell_type": "markdown",
   "metadata": {},
   "source": [
    "# Relatório de Análise VII"
   ]
  },
  {
   "cell_type": "markdown",
   "metadata": {},
   "source": [
    "## Criando Agrupamentos"
   ]
  },
  {
   "cell_type": "code",
   "execution_count": 12,
   "metadata": {},
   "outputs": [],
   "source": [
    "import pandas as pd"
   ]
  },
  {
   "cell_type": "code",
   "execution_count": 13,
   "metadata": {},
   "outputs": [],
   "source": [
    "dados = pd.read_csv('dados/aluguel_residencial.csv', sep = ';')"
   ]
  },
  {
   "cell_type": "code",
   "execution_count": 14,
   "metadata": {},
   "outputs": [
    {
     "data": {
      "text/html": [
       "<div>\n",
       "<style scoped>\n",
       "    .dataframe tbody tr th:only-of-type {\n",
       "        vertical-align: middle;\n",
       "    }\n",
       "\n",
       "    .dataframe tbody tr th {\n",
       "        vertical-align: top;\n",
       "    }\n",
       "\n",
       "    .dataframe thead th {\n",
       "        text-align: right;\n",
       "    }\n",
       "</style>\n",
       "<table border=\"1\" class=\"dataframe\">\n",
       "  <thead>\n",
       "    <tr style=\"text-align: right;\">\n",
       "      <th></th>\n",
       "      <th>Tipo</th>\n",
       "      <th>Bairro</th>\n",
       "      <th>Quartos</th>\n",
       "      <th>Vagas</th>\n",
       "      <th>Suites</th>\n",
       "      <th>Area</th>\n",
       "      <th>Valor</th>\n",
       "      <th>Condominio</th>\n",
       "      <th>IPTU</th>\n",
       "      <th>Valor m2</th>\n",
       "      <th>Tipo agregado</th>\n",
       "    </tr>\n",
       "  </thead>\n",
       "  <tbody>\n",
       "    <tr>\n",
       "      <th>0</th>\n",
       "      <td>Quitinete</td>\n",
       "      <td>Copacabana</td>\n",
       "      <td>1</td>\n",
       "      <td>0</td>\n",
       "      <td>0</td>\n",
       "      <td>40</td>\n",
       "      <td>1700.0</td>\n",
       "      <td>500.0</td>\n",
       "      <td>60.0</td>\n",
       "      <td>42.50</td>\n",
       "      <td>Apartamento</td>\n",
       "    </tr>\n",
       "    <tr>\n",
       "      <th>1</th>\n",
       "      <td>Casa</td>\n",
       "      <td>Jardim Botânico</td>\n",
       "      <td>2</td>\n",
       "      <td>0</td>\n",
       "      <td>1</td>\n",
       "      <td>100</td>\n",
       "      <td>7000.0</td>\n",
       "      <td>0.0</td>\n",
       "      <td>0.0</td>\n",
       "      <td>70.00</td>\n",
       "      <td>Casa</td>\n",
       "    </tr>\n",
       "    <tr>\n",
       "      <th>2</th>\n",
       "      <td>Apartamento</td>\n",
       "      <td>Centro</td>\n",
       "      <td>1</td>\n",
       "      <td>0</td>\n",
       "      <td>0</td>\n",
       "      <td>15</td>\n",
       "      <td>800.0</td>\n",
       "      <td>390.0</td>\n",
       "      <td>20.0</td>\n",
       "      <td>53.33</td>\n",
       "      <td>Apartamento</td>\n",
       "    </tr>\n",
       "    <tr>\n",
       "      <th>3</th>\n",
       "      <td>Apartamento</td>\n",
       "      <td>Higienópolis</td>\n",
       "      <td>1</td>\n",
       "      <td>0</td>\n",
       "      <td>0</td>\n",
       "      <td>48</td>\n",
       "      <td>800.0</td>\n",
       "      <td>230.0</td>\n",
       "      <td>0.0</td>\n",
       "      <td>16.67</td>\n",
       "      <td>Apartamento</td>\n",
       "    </tr>\n",
       "    <tr>\n",
       "      <th>4</th>\n",
       "      <td>Apartamento</td>\n",
       "      <td>Cachambi</td>\n",
       "      <td>2</td>\n",
       "      <td>0</td>\n",
       "      <td>0</td>\n",
       "      <td>50</td>\n",
       "      <td>1300.0</td>\n",
       "      <td>301.0</td>\n",
       "      <td>17.0</td>\n",
       "      <td>26.00</td>\n",
       "      <td>Apartamento</td>\n",
       "    </tr>\n",
       "  </tbody>\n",
       "</table>\n",
       "</div>"
      ],
      "text/plain": [
       "          Tipo           Bairro  Quartos  Vagas  Suites  Area   Valor  \\\n",
       "0    Quitinete       Copacabana        1      0       0    40  1700.0   \n",
       "1         Casa  Jardim Botânico        2      0       1   100  7000.0   \n",
       "2  Apartamento           Centro        1      0       0    15   800.0   \n",
       "3  Apartamento     Higienópolis        1      0       0    48   800.0   \n",
       "4  Apartamento         Cachambi        2      0       0    50  1300.0   \n",
       "\n",
       "   Condominio  IPTU  Valor m2 Tipo agregado  \n",
       "0       500.0  60.0     42.50   Apartamento  \n",
       "1         0.0   0.0     70.00          Casa  \n",
       "2       390.0  20.0     53.33   Apartamento  \n",
       "3       230.0   0.0     16.67   Apartamento  \n",
       "4       301.0  17.0     26.00   Apartamento  "
      ]
     },
     "execution_count": 14,
     "metadata": {},
     "output_type": "execute_result"
    }
   ],
   "source": [
    "dados.head()"
   ]
  },
  {
   "cell_type": "code",
   "execution_count": 15,
   "metadata": {},
   "outputs": [
    {
     "data": {
      "text/plain": [
       "5046.172821405663"
      ]
     },
     "execution_count": 15,
     "metadata": {},
     "output_type": "execute_result"
    }
   ],
   "source": [
    "dados['Valor'].mean()"
   ]
  },
  {
   "cell_type": "code",
   "execution_count": 16,
   "metadata": {},
   "outputs": [],
   "source": [
    "bairros = ['Barra da Tijuca', 'Copacabana', 'Ipanema', 'Leblon', 'Botafogo', 'Flamengo', 'Tijuca']\n",
    "selecao = dados['Bairro'].isin(bairros)\n",
    "dados = dados[selecao]"
   ]
  },
  {
   "cell_type": "code",
   "execution_count": 17,
   "metadata": {},
   "outputs": [
    {
     "data": {
      "text/plain": [
       "0          Copacabana\n",
       "5     Barra da Tijuca\n",
       "15             Tijuca\n",
       "19            Ipanema\n",
       "23           Botafogo\n",
       "27             Leblon\n",
       "78           Flamengo\n",
       "Name: Bairro, dtype: object"
      ]
     },
     "execution_count": 17,
     "metadata": {},
     "output_type": "execute_result"
    }
   ],
   "source": [
    "dados['Bairro'].drop_duplicates()"
   ]
  },
  {
   "cell_type": "code",
   "execution_count": 18,
   "metadata": {},
   "outputs": [],
   "source": [
    "grupo_bairro = dados.groupby('Bairro')"
   ]
  },
  {
   "cell_type": "code",
   "execution_count": 19,
   "metadata": {
    "scrolled": true
   },
   "outputs": [
    {
     "data": {
      "text/plain": [
       "{'Barra da Tijuca': Int64Index([    5,    14,    16,    21,    30,    32,    35,    42,    43,\n",
       "                60,\n",
       "             ...\n",
       "             21769, 21771, 21774, 21782, 21800, 21801, 21811, 21812, 21813,\n",
       "             21820],\n",
       "            dtype='int64', length=3863),\n",
       " 'Botafogo': Int64Index([   23,    48,    87,    88,   111,   119,   127,   134,   196,\n",
       "               200,\n",
       "             ...\n",
       "             21471, 21487, 21499, 21529, 21653, 21660, 21666, 21715, 21746,\n",
       "             21790],\n",
       "            dtype='int64', length=873),\n",
       " 'Copacabana': Int64Index([    0,     9,    10,    11,    24,    25,    28,    31,    86,\n",
       "                91,\n",
       "             ...\n",
       "             21707, 21713, 21736, 21743, 21780, 21783, 21795, 21809, 21810,\n",
       "             21815],\n",
       "            dtype='int64', length=2644),\n",
       " 'Flamengo': Int64Index([   78,   138,   218,   284,   321,   347,   356,   361,   369,\n",
       "               393,\n",
       "             ...\n",
       "             21527, 21560, 21581, 21629, 21680, 21704, 21728, 21731, 21740,\n",
       "             21794],\n",
       "            dtype='int64', length=714),\n",
       " 'Ipanema': Int64Index([   19,    39,    40,    45,    52,    53,    73,    84,    92,\n",
       "               114,\n",
       "             ...\n",
       "             21718, 21722, 21730, 21739, 21744, 21745, 21754, 21788, 21796,\n",
       "             21817],\n",
       "            dtype='int64', length=1764),\n",
       " 'Leblon': Int64Index([   27,    59,    90,    97,   115,   133,   161,   167,   171,\n",
       "               213,\n",
       "             ...\n",
       "             21721, 21761, 21770, 21777, 21785, 21786, 21787, 21808, 21816,\n",
       "             21825],\n",
       "            dtype='int64', length=1258),\n",
       " 'Tijuca': Int64Index([   15,    18,    20,    80,    82,   126,   145,   149,   158,\n",
       "               164,\n",
       "             ...\n",
       "             21573, 21577, 21607, 21610, 21661, 21675, 21714, 21729, 21773,\n",
       "             21818],\n",
       "            dtype='int64', length=1100)}"
      ]
     },
     "execution_count": 19,
     "metadata": {},
     "output_type": "execute_result"
    }
   ],
   "source": [
    "grupo_bairro.groups"
   ]
  },
  {
   "cell_type": "code",
   "execution_count": 20,
   "metadata": {},
   "outputs": [
    {
     "name": "stdout",
     "output_type": "stream",
     "text": [
      "Barra da Tijuca -> 7069.552938130986\n",
      "Botafogo -> 8791.828178694159\n",
      "Copacabana -> 4126.677004538578\n",
      "Flamengo -> 4113.526610644258\n",
      "Ipanema -> 9352.001133786847\n",
      "Leblon -> 8746.344992050874\n",
      "Tijuca -> 2043.52\n"
     ]
    }
   ],
   "source": [
    "for bairro, data in grupo_bairro:\n",
    "    print('{} -> {}'.format(bairro, data['Valor'].mean()))"
   ]
  },
  {
   "cell_type": "code",
   "execution_count": 21,
   "metadata": {},
   "outputs": [
    {
     "data": {
      "text/plain": [
       "Bairro\n",
       "Barra da Tijuca    7069.552938\n",
       "Botafogo           8791.828179\n",
       "Copacabana         4126.677005\n",
       "Flamengo           4113.526611\n",
       "Ipanema            9352.001134\n",
       "Leblon             8746.344992\n",
       "Tijuca             2043.520000\n",
       "Name: Valor, dtype: float64"
      ]
     },
     "execution_count": 21,
     "metadata": {},
     "output_type": "execute_result"
    }
   ],
   "source": [
    "grupo_bairro['Valor'].mean()"
   ]
  },
  {
   "cell_type": "code",
   "execution_count": 22,
   "metadata": {},
   "outputs": [
    {
     "data": {
      "text/html": [
       "<div>\n",
       "<style scoped>\n",
       "    .dataframe tbody tr th:only-of-type {\n",
       "        vertical-align: middle;\n",
       "    }\n",
       "\n",
       "    .dataframe tbody tr th {\n",
       "        vertical-align: top;\n",
       "    }\n",
       "\n",
       "    .dataframe thead th {\n",
       "        text-align: right;\n",
       "    }\n",
       "</style>\n",
       "<table border=\"1\" class=\"dataframe\">\n",
       "  <thead>\n",
       "    <tr style=\"text-align: right;\">\n",
       "      <th></th>\n",
       "      <th>Valor</th>\n",
       "      <th>Condominio</th>\n",
       "    </tr>\n",
       "    <tr>\n",
       "      <th>Bairro</th>\n",
       "      <th></th>\n",
       "      <th></th>\n",
       "    </tr>\n",
       "  </thead>\n",
       "  <tbody>\n",
       "    <tr>\n",
       "      <th>Barra da Tijuca</th>\n",
       "      <td>7069.552938</td>\n",
       "      <td>3591.013461</td>\n",
       "    </tr>\n",
       "    <tr>\n",
       "      <th>Botafogo</th>\n",
       "      <td>8791.828179</td>\n",
       "      <td>976.281787</td>\n",
       "    </tr>\n",
       "    <tr>\n",
       "      <th>Copacabana</th>\n",
       "      <td>4126.677005</td>\n",
       "      <td>1148.682300</td>\n",
       "    </tr>\n",
       "    <tr>\n",
       "      <th>Flamengo</th>\n",
       "      <td>4113.526611</td>\n",
       "      <td>1102.149860</td>\n",
       "    </tr>\n",
       "    <tr>\n",
       "      <th>Ipanema</th>\n",
       "      <td>9352.001134</td>\n",
       "      <td>2244.442177</td>\n",
       "    </tr>\n",
       "    <tr>\n",
       "      <th>Leblon</th>\n",
       "      <td>8746.344992</td>\n",
       "      <td>2107.184420</td>\n",
       "    </tr>\n",
       "    <tr>\n",
       "      <th>Tijuca</th>\n",
       "      <td>2043.520000</td>\n",
       "      <td>711.690000</td>\n",
       "    </tr>\n",
       "  </tbody>\n",
       "</table>\n",
       "</div>"
      ],
      "text/plain": [
       "                       Valor   Condominio\n",
       "Bairro                                   \n",
       "Barra da Tijuca  7069.552938  3591.013461\n",
       "Botafogo         8791.828179   976.281787\n",
       "Copacabana       4126.677005  1148.682300\n",
       "Flamengo         4113.526611  1102.149860\n",
       "Ipanema          9352.001134  2244.442177\n",
       "Leblon           8746.344992  2107.184420\n",
       "Tijuca           2043.520000   711.690000"
      ]
     },
     "execution_count": 22,
     "metadata": {},
     "output_type": "execute_result"
    }
   ],
   "source": [
    "grupo_bairro[['Valor', 'Condominio']].mean()"
   ]
  },
  {
   "cell_type": "markdown",
   "metadata": {},
   "source": [
    "## Estatísticas Descritivas"
   ]
  },
  {
   "cell_type": "code",
   "execution_count": 23,
   "metadata": {},
   "outputs": [
    {
     "data": {
      "text/html": [
       "<div>\n",
       "<style scoped>\n",
       "    .dataframe tbody tr th:only-of-type {\n",
       "        vertical-align: middle;\n",
       "    }\n",
       "\n",
       "    .dataframe tbody tr th {\n",
       "        vertical-align: top;\n",
       "    }\n",
       "\n",
       "    .dataframe thead th {\n",
       "        text-align: right;\n",
       "    }\n",
       "</style>\n",
       "<table border=\"1\" class=\"dataframe\">\n",
       "  <thead>\n",
       "    <tr style=\"text-align: right;\">\n",
       "      <th></th>\n",
       "      <th>count</th>\n",
       "      <th>mean</th>\n",
       "      <th>std</th>\n",
       "      <th>min</th>\n",
       "      <th>25%</th>\n",
       "      <th>50%</th>\n",
       "      <th>75%</th>\n",
       "      <th>max</th>\n",
       "    </tr>\n",
       "    <tr>\n",
       "      <th>Bairro</th>\n",
       "      <th></th>\n",
       "      <th></th>\n",
       "      <th></th>\n",
       "      <th></th>\n",
       "      <th></th>\n",
       "      <th></th>\n",
       "      <th></th>\n",
       "      <th></th>\n",
       "    </tr>\n",
       "  </thead>\n",
       "  <tbody>\n",
       "    <tr>\n",
       "      <th>Barra da Tijuca</th>\n",
       "      <td>3863.0</td>\n",
       "      <td>7069.55</td>\n",
       "      <td>11874.15</td>\n",
       "      <td>800.0</td>\n",
       "      <td>2500.0</td>\n",
       "      <td>4500.0</td>\n",
       "      <td>8500.0</td>\n",
       "      <td>600000.0</td>\n",
       "    </tr>\n",
       "    <tr>\n",
       "      <th>Botafogo</th>\n",
       "      <td>873.0</td>\n",
       "      <td>8791.83</td>\n",
       "      <td>152202.41</td>\n",
       "      <td>700.0</td>\n",
       "      <td>2200.0</td>\n",
       "      <td>3000.0</td>\n",
       "      <td>4350.0</td>\n",
       "      <td>4500000.0</td>\n",
       "    </tr>\n",
       "    <tr>\n",
       "      <th>Copacabana</th>\n",
       "      <td>2644.0</td>\n",
       "      <td>4126.68</td>\n",
       "      <td>3611.41</td>\n",
       "      <td>100.0</td>\n",
       "      <td>2000.0</td>\n",
       "      <td>3000.0</td>\n",
       "      <td>4800.0</td>\n",
       "      <td>35000.0</td>\n",
       "    </tr>\n",
       "    <tr>\n",
       "      <th>Flamengo</th>\n",
       "      <td>714.0</td>\n",
       "      <td>4113.53</td>\n",
       "      <td>3839.13</td>\n",
       "      <td>800.0</td>\n",
       "      <td>1900.0</td>\n",
       "      <td>2900.0</td>\n",
       "      <td>4975.0</td>\n",
       "      <td>35000.0</td>\n",
       "    </tr>\n",
       "    <tr>\n",
       "      <th>Ipanema</th>\n",
       "      <td>1764.0</td>\n",
       "      <td>9352.00</td>\n",
       "      <td>8219.72</td>\n",
       "      <td>1200.0</td>\n",
       "      <td>4500.0</td>\n",
       "      <td>7000.0</td>\n",
       "      <td>11000.0</td>\n",
       "      <td>90000.0</td>\n",
       "    </tr>\n",
       "    <tr>\n",
       "      <th>Leblon</th>\n",
       "      <td>1258.0</td>\n",
       "      <td>8746.34</td>\n",
       "      <td>7004.04</td>\n",
       "      <td>100.0</td>\n",
       "      <td>4500.0</td>\n",
       "      <td>7000.0</td>\n",
       "      <td>10500.0</td>\n",
       "      <td>100000.0</td>\n",
       "    </tr>\n",
       "    <tr>\n",
       "      <th>Tijuca</th>\n",
       "      <td>1100.0</td>\n",
       "      <td>2043.52</td>\n",
       "      <td>1664.34</td>\n",
       "      <td>750.0</td>\n",
       "      <td>1500.0</td>\n",
       "      <td>1800.0</td>\n",
       "      <td>2300.0</td>\n",
       "      <td>45000.0</td>\n",
       "    </tr>\n",
       "  </tbody>\n",
       "</table>\n",
       "</div>"
      ],
      "text/plain": [
       "                  count     mean        std     min     25%     50%      75%  \\\n",
       "Bairro                                                                         \n",
       "Barra da Tijuca  3863.0  7069.55   11874.15   800.0  2500.0  4500.0   8500.0   \n",
       "Botafogo          873.0  8791.83  152202.41   700.0  2200.0  3000.0   4350.0   \n",
       "Copacabana       2644.0  4126.68    3611.41   100.0  2000.0  3000.0   4800.0   \n",
       "Flamengo          714.0  4113.53    3839.13   800.0  1900.0  2900.0   4975.0   \n",
       "Ipanema          1764.0  9352.00    8219.72  1200.0  4500.0  7000.0  11000.0   \n",
       "Leblon           1258.0  8746.34    7004.04   100.0  4500.0  7000.0  10500.0   \n",
       "Tijuca           1100.0  2043.52    1664.34   750.0  1500.0  1800.0   2300.0   \n",
       "\n",
       "                       max  \n",
       "Bairro                      \n",
       "Barra da Tijuca   600000.0  \n",
       "Botafogo         4500000.0  \n",
       "Copacabana         35000.0  \n",
       "Flamengo           35000.0  \n",
       "Ipanema            90000.0  \n",
       "Leblon            100000.0  \n",
       "Tijuca             45000.0  "
      ]
     },
     "execution_count": 23,
     "metadata": {},
     "output_type": "execute_result"
    }
   ],
   "source": [
    "grupo_bairro['Valor'].describe().round(2)"
   ]
  },
  {
   "cell_type": "code",
   "execution_count": 26,
   "metadata": {},
   "outputs": [
    {
     "data": {
      "text/html": [
       "<div>\n",
       "<style scoped>\n",
       "    .dataframe tbody tr th:only-of-type {\n",
       "        vertical-align: middle;\n",
       "    }\n",
       "\n",
       "    .dataframe tbody tr th {\n",
       "        vertical-align: top;\n",
       "    }\n",
       "\n",
       "    .dataframe thead th {\n",
       "        text-align: right;\n",
       "    }\n",
       "</style>\n",
       "<table border=\"1\" class=\"dataframe\">\n",
       "  <thead>\n",
       "    <tr style=\"text-align: right;\">\n",
       "      <th></th>\n",
       "      <th>Mínimo</th>\n",
       "      <th>Máximo</th>\n",
       "      <th>Soma</th>\n",
       "    </tr>\n",
       "    <tr>\n",
       "      <th>Bairro</th>\n",
       "      <th></th>\n",
       "      <th></th>\n",
       "      <th></th>\n",
       "    </tr>\n",
       "  </thead>\n",
       "  <tbody>\n",
       "    <tr>\n",
       "      <th>Barra da Tijuca</th>\n",
       "      <td>800.0</td>\n",
       "      <td>600000.0</td>\n",
       "      <td>27309683.0</td>\n",
       "    </tr>\n",
       "    <tr>\n",
       "      <th>Botafogo</th>\n",
       "      <td>700.0</td>\n",
       "      <td>4500000.0</td>\n",
       "      <td>7675266.0</td>\n",
       "    </tr>\n",
       "    <tr>\n",
       "      <th>Copacabana</th>\n",
       "      <td>100.0</td>\n",
       "      <td>35000.0</td>\n",
       "      <td>10910934.0</td>\n",
       "    </tr>\n",
       "    <tr>\n",
       "      <th>Flamengo</th>\n",
       "      <td>800.0</td>\n",
       "      <td>35000.0</td>\n",
       "      <td>2937058.0</td>\n",
       "    </tr>\n",
       "    <tr>\n",
       "      <th>Ipanema</th>\n",
       "      <td>1200.0</td>\n",
       "      <td>90000.0</td>\n",
       "      <td>16496930.0</td>\n",
       "    </tr>\n",
       "    <tr>\n",
       "      <th>Leblon</th>\n",
       "      <td>100.0</td>\n",
       "      <td>100000.0</td>\n",
       "      <td>11002902.0</td>\n",
       "    </tr>\n",
       "    <tr>\n",
       "      <th>Tijuca</th>\n",
       "      <td>750.0</td>\n",
       "      <td>45000.0</td>\n",
       "      <td>2247872.0</td>\n",
       "    </tr>\n",
       "  </tbody>\n",
       "</table>\n",
       "</div>"
      ],
      "text/plain": [
       "                 Mínimo     Máximo        Soma\n",
       "Bairro                                        \n",
       "Barra da Tijuca   800.0   600000.0  27309683.0\n",
       "Botafogo          700.0  4500000.0   7675266.0\n",
       "Copacabana        100.0    35000.0  10910934.0\n",
       "Flamengo          800.0    35000.0   2937058.0\n",
       "Ipanema          1200.0    90000.0  16496930.0\n",
       "Leblon            100.0   100000.0  11002902.0\n",
       "Tijuca            750.0    45000.0   2247872.0"
      ]
     },
     "execution_count": 26,
     "metadata": {},
     "output_type": "execute_result"
    }
   ],
   "source": [
    "grupo_bairro['Valor'].aggregate(['min', 'max','sum']). rename(columns = {'min': 'Mínimo', 'max': 'Máximo', 'sum': 'Soma'})"
   ]
  },
  {
   "cell_type": "code",
   "execution_count": 28,
   "metadata": {},
   "outputs": [],
   "source": [
    "%matplotlib inline \n",
    "#^mostrar um grafico estático^\n",
    "import matplotlib.pyplot as plt\n",
    "plt.rc('figure', figsize = (20,10))\n"
   ]
  },
  {
   "cell_type": "code",
   "execution_count": 31,
   "metadata": {},
   "outputs": [
    {
     "data": {
      "text/plain": [
       "Text(0.5, 1.0, 'Valor Médio do Aluguel por Bairro')"
      ]
     },
     "execution_count": 31,
     "metadata": {},
     "output_type": "execute_result"
    },
    {
     "data": {
      "image/png": "[encoded data removed]",
      "text/plain": [
       "<Figure size 1440x720 with 1 Axes>"
      ]
     },
     "metadata": {
      "needs_background": "light"
     },
     "output_type": "display_data"
    }
   ],
   "source": [
    "fig = grupo_bairro['Valor'].mean().plot.bar(color = 'blue')\n",
    "fig.set_ylabel('Valor do Aluguel')\n",
    "fig.set_title('Valor Médio do Aluguel por Bairro', {'fontsize': 22})"
   ]
  },
  {
   "cell_type": "code",
   "execution_count": null,
   "metadata": {},
   "outputs": [],
   "source": []
  }
 ],
 "metadata": {
  "kernelspec": {
   "display_name": "Python 3",
   "language": "python",
   "name": "python3"
  },
  "language_info": {
   "codemirror_mode": {
    "name": "ipython",
    "version": 3
   },
   "file_extension": ".py",
   "mimetype": "text/x-python",
   "name": "python",
   "nbconvert_exporter": "python",
   "pygments_lexer": "ipython3",
   "version": "3.8.3"
  }
 },
 "nbformat": 4,
 "nbformat_minor": 4
}
